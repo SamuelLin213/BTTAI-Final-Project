{
 "cells": [
  {
   "cell_type": "markdown",
   "metadata": {},
   "source": [
    "# Lab 8: Implement Your Machine Learning Project Plan"
   ]
  },
  {
   "cell_type": "markdown",
   "metadata": {},
   "source": [
    "In this lab assignment, you will implement the machine learning project plan you created in the written assignment. You will:\n",
    "\n",
    "1. Load your data set and save it to a Pandas DataFrame.\n",
    "2. Perform exploratory data analysis on your data to determine which feature engineering and data preparation techniques you will use.\n",
    "3. Prepare your data for your model and create features and a label.\n",
    "4. Fit your model to the training data and evaluate your model.\n",
    "5. Improve your model by performing model selection and/or feature selection techniques to find best model for your problem."
   ]
  },
  {
   "cell_type": "markdown",
   "metadata": {},
   "source": [
    "### Import Packages\n",
    "\n",
    "Before you get started, import a few packages."
   ]
  },
  {
   "cell_type": "code",
   "execution_count": 1,
   "metadata": {},
   "outputs": [],
   "source": [
    "import pandas as pd\n",
    "import numpy as np\n",
    "import os \n",
    "import matplotlib.pyplot as plt\n",
    "import seaborn as sns"
   ]
  },
  {
   "cell_type": "markdown",
   "metadata": {},
   "source": [
    "<b>Task:</b> In the code cell below, import additional packages that you have used in this course that you will need for this task."
   ]
  },
  {
   "cell_type": "code",
   "execution_count": 96,
   "metadata": {},
   "outputs": [],
   "source": [
    "import scipy.stats as stats\n",
    "from sklearn.neighbors import KNeighborsClassifier\n",
    "from sklearn.model_selection import train_test_split, GridSearchCV\n",
    "from sklearn.model_selection import cross_val_score\n",
    "from sklearn.metrics import accuracy_score, confusion_matrix"
   ]
  },
  {
   "cell_type": "markdown",
   "metadata": {},
   "source": [
    "## Part 1: Load the Data Set\n",
    "\n",
    "\n",
    "You have chosen to work with one of four data sets. The data sets are located in a folder named \"data.\" The file names of the three data sets are as follows:\n",
    "\n",
    "* The \"adult\" data set that contains Census information from 1994 is located in file `adultData.csv`\n",
    "* The airbnb NYC \"listings\" data set is located in file  `airbnbListingsData.csv`\n",
    "* The World Happiness Report (WHR) data set is located in file `WHR2018Chapter2OnlineData.csv`\n",
    "* The book review data set is located in file `bookReviewsData.csv`\n",
    "\n",
    "\n",
    "\n",
    "<b>Task:</b> In the code cell below, use the same method you have been using to load your data using `pd.read_csv()` and save it to DataFrame `df`."
   ]
  },
  {
   "cell_type": "code",
   "execution_count": 2,
   "metadata": {},
   "outputs": [
    {
     "data": {
      "text/html": [
       "<div>\n",
       "<style scoped>\n",
       "    .dataframe tbody tr th:only-of-type {\n",
       "        vertical-align: middle;\n",
       "    }\n",
       "\n",
       "    .dataframe tbody tr th {\n",
       "        vertical-align: top;\n",
       "    }\n",
       "\n",
       "    .dataframe thead th {\n",
       "        text-align: right;\n",
       "    }\n",
       "</style>\n",
       "<table border=\"1\" class=\"dataframe\">\n",
       "  <thead>\n",
       "    <tr style=\"text-align: right;\">\n",
       "      <th></th>\n",
       "      <th>age</th>\n",
       "      <th>workclass</th>\n",
       "      <th>fnlwgt</th>\n",
       "      <th>education</th>\n",
       "      <th>education-num</th>\n",
       "      <th>marital-status</th>\n",
       "      <th>occupation</th>\n",
       "      <th>relationship</th>\n",
       "      <th>race</th>\n",
       "      <th>sex_selfID</th>\n",
       "      <th>capital-gain</th>\n",
       "      <th>capital-loss</th>\n",
       "      <th>hours-per-week</th>\n",
       "      <th>native-country</th>\n",
       "      <th>income_binary</th>\n",
       "    </tr>\n",
       "  </thead>\n",
       "  <tbody>\n",
       "    <tr>\n",
       "      <th>0</th>\n",
       "      <td>39.0</td>\n",
       "      <td>State-gov</td>\n",
       "      <td>77516</td>\n",
       "      <td>Bachelors</td>\n",
       "      <td>13</td>\n",
       "      <td>Never-married</td>\n",
       "      <td>Adm-clerical</td>\n",
       "      <td>Not-in-family</td>\n",
       "      <td>White</td>\n",
       "      <td>Non-Female</td>\n",
       "      <td>2174</td>\n",
       "      <td>0</td>\n",
       "      <td>40.0</td>\n",
       "      <td>United-States</td>\n",
       "      <td>&lt;=50K</td>\n",
       "    </tr>\n",
       "    <tr>\n",
       "      <th>1</th>\n",
       "      <td>50.0</td>\n",
       "      <td>Self-emp-not-inc</td>\n",
       "      <td>83311</td>\n",
       "      <td>Bachelors</td>\n",
       "      <td>13</td>\n",
       "      <td>Married-civ-spouse</td>\n",
       "      <td>Exec-managerial</td>\n",
       "      <td>Husband</td>\n",
       "      <td>White</td>\n",
       "      <td>Non-Female</td>\n",
       "      <td>0</td>\n",
       "      <td>0</td>\n",
       "      <td>13.0</td>\n",
       "      <td>United-States</td>\n",
       "      <td>&lt;=50K</td>\n",
       "    </tr>\n",
       "    <tr>\n",
       "      <th>2</th>\n",
       "      <td>38.0</td>\n",
       "      <td>Private</td>\n",
       "      <td>215646</td>\n",
       "      <td>HS-grad</td>\n",
       "      <td>9</td>\n",
       "      <td>Divorced</td>\n",
       "      <td>Handlers-cleaners</td>\n",
       "      <td>Not-in-family</td>\n",
       "      <td>White</td>\n",
       "      <td>Non-Female</td>\n",
       "      <td>0</td>\n",
       "      <td>0</td>\n",
       "      <td>40.0</td>\n",
       "      <td>United-States</td>\n",
       "      <td>&lt;=50K</td>\n",
       "    </tr>\n",
       "    <tr>\n",
       "      <th>3</th>\n",
       "      <td>53.0</td>\n",
       "      <td>Private</td>\n",
       "      <td>234721</td>\n",
       "      <td>11th</td>\n",
       "      <td>7</td>\n",
       "      <td>Married-civ-spouse</td>\n",
       "      <td>Handlers-cleaners</td>\n",
       "      <td>Husband</td>\n",
       "      <td>Black</td>\n",
       "      <td>Non-Female</td>\n",
       "      <td>0</td>\n",
       "      <td>0</td>\n",
       "      <td>40.0</td>\n",
       "      <td>United-States</td>\n",
       "      <td>&lt;=50K</td>\n",
       "    </tr>\n",
       "    <tr>\n",
       "      <th>4</th>\n",
       "      <td>28.0</td>\n",
       "      <td>Private</td>\n",
       "      <td>338409</td>\n",
       "      <td>Bachelors</td>\n",
       "      <td>13</td>\n",
       "      <td>Married-civ-spouse</td>\n",
       "      <td>Prof-specialty</td>\n",
       "      <td>Wife</td>\n",
       "      <td>Black</td>\n",
       "      <td>Female</td>\n",
       "      <td>0</td>\n",
       "      <td>0</td>\n",
       "      <td>40.0</td>\n",
       "      <td>Cuba</td>\n",
       "      <td>&lt;=50K</td>\n",
       "    </tr>\n",
       "  </tbody>\n",
       "</table>\n",
       "</div>"
      ],
      "text/plain": [
       "    age         workclass  fnlwgt  education  education-num  \\\n",
       "0  39.0         State-gov   77516  Bachelors             13   \n",
       "1  50.0  Self-emp-not-inc   83311  Bachelors             13   \n",
       "2  38.0           Private  215646    HS-grad              9   \n",
       "3  53.0           Private  234721       11th              7   \n",
       "4  28.0           Private  338409  Bachelors             13   \n",
       "\n",
       "       marital-status         occupation   relationship   race  sex_selfID  \\\n",
       "0       Never-married       Adm-clerical  Not-in-family  White  Non-Female   \n",
       "1  Married-civ-spouse    Exec-managerial        Husband  White  Non-Female   \n",
       "2            Divorced  Handlers-cleaners  Not-in-family  White  Non-Female   \n",
       "3  Married-civ-spouse  Handlers-cleaners        Husband  Black  Non-Female   \n",
       "4  Married-civ-spouse     Prof-specialty           Wife  Black      Female   \n",
       "\n",
       "   capital-gain  capital-loss  hours-per-week native-country income_binary  \n",
       "0          2174             0            40.0  United-States         <=50K  \n",
       "1             0             0            13.0  United-States         <=50K  \n",
       "2             0             0            40.0  United-States         <=50K  \n",
       "3             0             0            40.0  United-States         <=50K  \n",
       "4             0             0            40.0           Cuba         <=50K  "
      ]
     },
     "execution_count": 2,
     "metadata": {},
     "output_type": "execute_result"
    }
   ],
   "source": [
    "# filename of our data\n",
    "adult_filename = os.path.join(os.getcwd(), \"data\", \"adultData.csv\")\n",
    "\n",
    "# read our data into a csv\n",
    "df_full = pd.read_csv(adult_filename, header=0)\n",
    "df_full.head()"
   ]
  },
  {
   "cell_type": "markdown",
   "metadata": {},
   "source": [
    "## Part 2: Exploratory Data Analysis\n",
    "\n",
    "The next step is to inspect and analyze your data set with your machine learning problem and project plan in mind. \n",
    "\n",
    "This step will help you determine data preparation and feature engineering techniques you will need to apply to your data to build a balanced modeling data set for your problem and model. These data preparation techniques may include:\n",
    "* addressing missingness, such as replacing missing values with means\n",
    "* renaming features and labels\n",
    "* finding and replacing outliers\n",
    "* performing winsorization if needed\n",
    "* performing one-hot encoding on categorical features\n",
    "* performing vectorization for an NLP problem\n",
    "* addressing class imbalance in your data sample to promote fair AI\n",
    "\n",
    "\n",
    "Think of the different techniques you have used to inspect and analyze your data in this course. These include using Pandas to apply data filters, using the Pandas `describe()` method to get insight into key statistics for each column, using the Pandas `dtypes` property to inspect the data type of each column, and using Matplotlib and Seaborn to detect outliers and visualize relationships between features and labels. If you are working on a classification problem, use techniques you have learned to determine if there is class imbalance.\n",
    "\n",
    "\n",
    "<b>Task</b>: Use the techniques you have learned in this course to inspect and analyze your data. \n",
    "\n",
    "<b>Note</b>: You can add code cells if needed by going to the <b>Insert</b> menu and clicking on <b>Insert Cell Below</b> in the drop-drown menu."
   ]
  },
  {
   "cell_type": "code",
   "execution_count": 28,
   "metadata": {},
   "outputs": [
    {
     "data": {
      "text/plain": [
       "(32561, 15)"
      ]
     },
     "execution_count": 28,
     "metadata": {},
     "output_type": "execute_result"
    }
   ],
   "source": [
    "# shape of our data\n",
    "df_full.shape"
   ]
  },
  {
   "cell_type": "code",
   "execution_count": 29,
   "metadata": {},
   "outputs": [
    {
     "data": {
      "text/plain": [
       "Index(['age', 'workclass', 'fnlwgt', 'education', 'education-num',\n",
       "       'marital-status', 'occupation', 'relationship', 'race', 'sex_selfID',\n",
       "       'capital-gain', 'capital-loss', 'hours-per-week', 'native-country',\n",
       "       'income_binary'],\n",
       "      dtype='object')"
      ]
     },
     "execution_count": 29,
     "metadata": {},
     "output_type": "execute_result"
    }
   ],
   "source": [
    "df_full.columns"
   ]
  },
  {
   "cell_type": "markdown",
   "metadata": {},
   "source": [
    "We're using the following columns in our model:\n",
    "* workclass\n",
    "* occupation\n",
    "* relationship\n",
    "* hours-per-week\n",
    "\n",
    "Let's look at the unique values for each of these columns:"
   ]
  },
  {
   "cell_type": "code",
   "execution_count": 30,
   "metadata": {},
   "outputs": [
    {
     "data": {
      "text/plain": [
       "array(['State-gov', 'Self-emp-not-inc', 'Private', 'Federal-gov',\n",
       "       'Local-gov', nan, 'Self-emp-inc', 'Without-pay', 'Never-worked'],\n",
       "      dtype=object)"
      ]
     },
     "execution_count": 30,
     "metadata": {},
     "output_type": "execute_result"
    }
   ],
   "source": [
    "df_full['workclass'].unique()"
   ]
  },
  {
   "cell_type": "code",
   "execution_count": 31,
   "metadata": {},
   "outputs": [
    {
     "data": {
      "text/plain": [
       "array(['Adm-clerical', 'Exec-managerial', 'Handlers-cleaners',\n",
       "       'Prof-specialty', 'Other-service', 'Sales', 'Craft-repair',\n",
       "       'Transport-moving', 'Farming-fishing', 'Machine-op-inspct',\n",
       "       'Tech-support', nan, 'Protective-serv', 'Armed-Forces',\n",
       "       'Priv-house-serv'], dtype=object)"
      ]
     },
     "execution_count": 31,
     "metadata": {},
     "output_type": "execute_result"
    }
   ],
   "source": [
    "df_full['occupation'].unique()"
   ]
  },
  {
   "cell_type": "code",
   "execution_count": 32,
   "metadata": {},
   "outputs": [
    {
     "data": {
      "text/plain": [
       "array(['Not-in-family', 'Husband', 'Wife', 'Own-child', 'Unmarried',\n",
       "       'Other-relative'], dtype=object)"
      ]
     },
     "execution_count": 32,
     "metadata": {},
     "output_type": "execute_result"
    }
   ],
   "source": [
    "df_full['relationship'].unique()"
   ]
  },
  {
   "cell_type": "code",
   "execution_count": 33,
   "metadata": {},
   "outputs": [
    {
     "data": {
      "text/plain": [
       "array([40., 13., 16., 45., 50., 80., 30., 35., nan, 60., 20., 52., 44.,\n",
       "       15., 25., 38., 43., 55., 48., 58., 32., 70.,  2., 22., 56., 28.,\n",
       "       36., 24., 46., 42., 12., 65.,  1., 10., 34., 75., 98., 33., 54.,\n",
       "        8.,  6., 64., 19., 18., 72.,  5.,  9., 47., 37., 21., 26., 14.,\n",
       "        4., 59.,  7., 99., 53., 39., 62., 41., 57., 78., 90., 66., 11.,\n",
       "       49., 84.,  3., 17., 68., 27., 85., 31., 51., 77., 63., 23., 87.,\n",
       "       88., 73., 89., 97., 94., 29., 96., 67., 82., 86., 91., 81., 76.,\n",
       "       92., 61., 74., 95.])"
      ]
     },
     "execution_count": 33,
     "metadata": {},
     "output_type": "execute_result"
    }
   ],
   "source": [
    "df_full['hours-per-week'].unique()"
   ]
  },
  {
   "cell_type": "markdown",
   "metadata": {},
   "source": [
    "We can work on manipulating some of these column values, for less complexity. For example, for workclass, we'll consolidate its values to \"not-self-emp\" and \"self-emp\". "
   ]
  },
  {
   "cell_type": "code",
   "execution_count": 3,
   "metadata": {},
   "outputs": [
    {
     "data": {
      "text/plain": [
       "array(['not-self-emp', 'self-emp', nan], dtype=object)"
      ]
     },
     "execution_count": 3,
     "metadata": {},
     "output_type": "execute_result"
    }
   ],
   "source": [
    "selfEmpList = ['Self-emp-not-inc', 'Self-emp-inc', \"Never-worked\"] # list of self-emp workclasses\n",
    "df_full.loc[df_full[\"workclass\"].isin(selfEmpList), \"workclass\"] = \"self-emp\"\n",
    "\n",
    "notSelfEmpList = ['State-gov', 'Local-gov', 'Federal-gov', \"Private\", \"Without-pay\"] # list of not self-employed workclasses\n",
    "df_full.loc[df_full[\"workclass\"].isin(notSelfEmpList), \"workclass\"] = \"not-self-emp\"\n",
    "\n",
    "df_full[\"workclass\"].unique()"
   ]
  },
  {
   "cell_type": "markdown",
   "metadata": {},
   "source": [
    "The occupations don't need to be consolidated. However, we need some way to assign value to each occupation. We'll touch on this later on, but we'll give it a relative order to each of these occupation values, based on their average pay(based on data from reports such as from Glassdoor or Indeed).\n",
    "\n",
    "The relationship column can be consolidated down to whether the person is currently in an family. "
   ]
  },
  {
   "cell_type": "code",
   "execution_count": 4,
   "metadata": {},
   "outputs": [
    {
     "data": {
      "text/plain": [
       "array(['no_family', 'family'], dtype=object)"
      ]
     },
     "execution_count": 4,
     "metadata": {},
     "output_type": "execute_result"
    }
   ],
   "source": [
    "notFamilyList = ['Not-in-family', 'Unmarried', 'no_family']\n",
    "df_full.loc[df_full[\"relationship\"].isin(notFamilyList), \"relationship\"] = \"no_family\"\n",
    "df_full.loc[~df_full[\"relationship\"].isin(notFamilyList), \"relationship\"] = \"family\"\n",
    "\n",
    "df_full[\"relationship\"].unique()"
   ]
  },
  {
   "cell_type": "markdown",
   "metadata": {},
   "source": [
    "The hours-per-week is already a numerical column, so we can analyze it later. "
   ]
  },
  {
   "cell_type": "markdown",
   "metadata": {},
   "source": [
    "## Part 3: Implement Your Project Plan\n",
    "\n",
    "<b>Task:</b> Use the rest of this notebook to carry out your project plan. You will:\n",
    "\n",
    "1. Prepare your data for your model and create features and a label.\n",
    "2. Fit your model to the training data and evaluate your model.\n",
    "3. Improve your model by performing model selection and/or feature selection techniques to find best model for your problem.\n",
    "\n",
    "\n",
    "Add code cells below and populate the notebook with commentary, code, analyses, results, and figures as you see fit."
   ]
  },
  {
   "cell_type": "markdown",
   "metadata": {},
   "source": [
    "Let's make a random sample from this data:"
   ]
  },
  {
   "cell_type": "code",
   "execution_count": 5,
   "metadata": {},
   "outputs": [],
   "source": [
    "percentage = 0.3\n",
    "num_rows = df_full.shape[0]\n",
    "\n",
    "indices = np.random.choice(df_full.index, size=int(percentage*num_rows), replace=False)\n",
    "df = df_full.loc[indices] "
   ]
  },
  {
   "cell_type": "markdown",
   "metadata": {},
   "source": [
    "Now that we've manipulated our columns to have proper values, we can start working with it, starting with ensuring there's no imbalance. We can first check using value_counts():"
   ]
  },
  {
   "cell_type": "code",
   "execution_count": 29,
   "metadata": {},
   "outputs": [
    {
     "data": {
      "text/plain": [
       "<=50K    7425\n",
       ">50K     2343\n",
       "Name: income_binary, dtype: int64"
      ]
     },
     "execution_count": 29,
     "metadata": {},
     "output_type": "execute_result"
    }
   ],
   "source": [
    "df[\"income_binary\"].value_counts()"
   ]
  },
  {
   "cell_type": "markdown",
   "metadata": {},
   "source": [
    "We can see there's a clear imbalance, with much more examples of <=50k than that of >50k. Let's check the imbalance with respect to the relationship and workclass labels."
   ]
  },
  {
   "cell_type": "code",
   "execution_count": 30,
   "metadata": {},
   "outputs": [
    {
     "data": {
      "text/plain": [
       "relationship  workclass     income_binary\n",
       "family        not-self-emp  <=50K            3438\n",
       "                            >50K             1571\n",
       "              self-emp      <=50K             465\n",
       "                            >50K              367\n",
       "no_family     not-self-emp  <=50K            2806\n",
       "                            >50K              296\n",
       "              self-emp      <=50K             215\n",
       "                            >50K               58\n",
       "dtype: int64"
      ]
     },
     "execution_count": 30,
     "metadata": {},
     "output_type": "execute_result"
    }
   ],
   "source": [
    "df.groupby(['relationship', 'workclass', 'income_binary']).size()"
   ]
  },
  {
   "cell_type": "markdown",
   "metadata": {},
   "source": [
    "As we can see, there's generally an imbalance between the labels, with much more <=50k example. Let's address that, via upsampling:"
   ]
  },
  {
   "cell_type": "code",
   "execution_count": 6,
   "metadata": {},
   "outputs": [],
   "source": [
    "low_income_fam_self_emp, high_income_fam_self_emp = df.groupby(['relationship', 'workclass', 'income_binary']).size()['family', 'self-emp']\n",
    "class_imbalance = high_income_fam_self_emp / low_income_fam_self_emp\n",
    "\n",
    "low_income_fam_not_self_emp, high_income_fam_not_self_emp = df.groupby(['relationship', 'workclass', 'income_binary']).size()['family', 'not-self-emp']\n",
    "low_income_no_fam_not_self_emp, high_income_no_fam_not_self_emp = df.groupby(['relationship', 'workclass', 'income_binary']).size()['no_family', 'not-self-emp']\n",
    "low_income_no_fam_self_emp, high_income_no_fam_self_emp = df.groupby(['relationship', 'workclass', 'income_binary']).size()['no_family', 'self-emp']\n",
    "\n",
    "size1 = int(class_imbalance*low_income_fam_not_self_emp - high_income_fam_not_self_emp)\n",
    "size2 = int(class_imbalance*low_income_no_fam_not_self_emp - high_income_no_fam_not_self_emp)\n",
    "size3 = int(class_imbalance*low_income_no_fam_self_emp - high_income_no_fam_self_emp)"
   ]
  },
  {
   "cell_type": "code",
   "execution_count": 7,
   "metadata": {},
   "outputs": [],
   "source": [
    "df_never_sampled = df_full.drop(labels=df.index, axis=0, inplace=False)\n",
    "\n",
    "# upsample family, not-self-emp\n",
    "condition = (df_never_sampled['income_binary']=='>50K') & (df_never_sampled['relationship']=='family') & (df_never_sampled['workclass']=='not-self-emp')\n",
    "df_never_sampled_target = df_never_sampled[condition]\n",
    "size=min(size1, df_never_sampled_target.shape[0])\n",
    "indices = np.random.choice(df_never_sampled_target.index, size=size, replace=False)\n",
    "rows = df_full.loc[indices]\n",
    "df_balanced = df.append(rows)\n",
    "\n",
    "# upsample no-family, not-self-emp\n",
    "condition = (df_never_sampled['income_binary']=='>50K') & (df_never_sampled['relationship']=='no_family') & (df_never_sampled['workclass']=='not-self-emp')\n",
    "df_never_sampled_target = df_never_sampled[condition]\n",
    "size=min(size2, df_never_sampled_target.shape[0])\n",
    "indices = np.random.choice(df_never_sampled_target.index, size=size, replace=False)\n",
    "rows = df_full.loc[indices]\n",
    "df_balanced = df_balanced.append(rows)\n",
    "\n",
    "# upsample no-family, self-emp\n",
    "condition = (df_never_sampled['income_binary']=='>50K') & (df_never_sampled['relationship']=='no_family') & (df_never_sampled['workclass']=='self-emp')\n",
    "df_never_sampled_target = df_never_sampled[condition]\n",
    "size=min(size3, df_never_sampled_target.shape[0])\n",
    "indices = np.random.choice(df_never_sampled_target.index, size=size, replace=False)\n",
    "rows = df_full.loc[indices]\n",
    "df_balanced = df_balanced.append(rows)"
   ]
  },
  {
   "cell_type": "code",
   "execution_count": 8,
   "metadata": {},
   "outputs": [
    {
     "data": {
      "text/plain": [
       "relationship  workclass     income_binary\n",
       "family        not-self-emp  <=50K            3469\n",
       "                            >50K             2674\n",
       "              self-emp      <=50K             476\n",
       "                            >50K              367\n",
       "no_family     not-self-emp  <=50K            2824\n",
       "                            >50K              896\n",
       "              self-emp      <=50K             241\n",
       "                            >50K              158\n",
       "dtype: int64"
      ]
     },
     "execution_count": 8,
     "metadata": {},
     "output_type": "execute_result"
    }
   ],
   "source": [
    "df_balanced.groupby(['relationship', 'workclass', 'income_binary']).size()"
   ]
  },
  {
   "cell_type": "markdown",
   "metadata": {},
   "source": [
    "With this, most of the categories are fairly well balanced; although it's not perfect, it's better than our initial distribution. Let's quickly look at the datatypes of our columns."
   ]
  },
  {
   "cell_type": "code",
   "execution_count": 51,
   "metadata": {},
   "outputs": [
    {
     "data": {
      "text/plain": [
       "age               float64\n",
       "workclass          object\n",
       "fnlwgt              int64\n",
       "education          object\n",
       "education-num       int64\n",
       "marital-status     object\n",
       "occupation         object\n",
       "relationship       object\n",
       "race               object\n",
       "sex_selfID         object\n",
       "capital-gain        int64\n",
       "capital-loss        int64\n",
       "hours-per-week    float64\n",
       "native-country     object\n",
       "income_binary      object\n",
       "dtype: object"
      ]
     },
     "execution_count": 51,
     "metadata": {},
     "output_type": "execute_result"
    }
   ],
   "source": [
    "df_balanced.dtypes"
   ]
  },
  {
   "cell_type": "markdown",
   "metadata": {},
   "source": [
    "The object datatype is a bit ambiguous. Let's get a more detailed view of our datatypes:"
   ]
  },
  {
   "cell_type": "code",
   "execution_count": 9,
   "metadata": {},
   "outputs": [
    {
     "data": {
      "text/plain": [
       "{'age': 'floating',\n",
       " 'capital-gain': 'integer',\n",
       " 'capital-loss': 'integer',\n",
       " 'education': 'string',\n",
       " 'education-num': 'integer',\n",
       " 'fnlwgt': 'integer',\n",
       " 'hours-per-week': 'floating',\n",
       " 'income_binary': 'string',\n",
       " 'marital-status': 'string',\n",
       " 'native-country': 'string',\n",
       " 'occupation': 'string',\n",
       " 'race': 'string',\n",
       " 'relationship': 'string',\n",
       " 'sex_selfID': 'string',\n",
       " 'workclass': 'string'}"
      ]
     },
     "execution_count": 9,
     "metadata": {},
     "output_type": "execute_result"
    }
   ],
   "source": [
    "types_dict = {}\n",
    "for column in df_balanced.columns:\n",
    "    types_dict[column] = pd.api.types.infer_dtype(df[column])\n",
    "\n",
    "types_dict"
   ]
  },
  {
   "cell_type": "markdown",
   "metadata": {},
   "source": [
    "Note the datatypes of the columns of interest:\n",
    "* workclass: string\n",
    "* relationship: string\n",
    "* occupation: string\n",
    "* hours-per-week: floating"
   ]
  },
  {
   "cell_type": "markdown",
   "metadata": {},
   "source": [
    "The workclass and relationship columns are binary, while the hours-per-week is a decimal, so these are fairly easy to work with. However, occupation is a non-binary string, which isn't ordered."
   ]
  },
  {
   "cell_type": "code",
   "execution_count": 12,
   "metadata": {},
   "outputs": [
    {
     "data": {
      "text/plain": [
       "dtype('O')"
      ]
     },
     "execution_count": 12,
     "metadata": {},
     "output_type": "execute_result"
    }
   ],
   "source": [
    "df_balanced['occupation'].dtype"
   ]
  },
  {
   "cell_type": "markdown",
   "metadata": {},
   "source": [
    "Let's transform this column into an ordered one. We'll rank the occupations based on their average annual salary, according to data provided by Indeed and Glassdoor."
   ]
  },
  {
   "cell_type": "code",
   "execution_count": 15,
   "metadata": {},
   "outputs": [
    {
     "data": {
      "text/plain": [
       "array(['Craft-repair', 'Sales', 'Exec-managerial', 'Machine-op-inspct',\n",
       "       'Other-service', 'Transport-moving', 'Prof-specialty',\n",
       "       'Priv-house-serv', 'Tech-support', 'Adm-clerical',\n",
       "       'Farming-fishing', nan, 'Handlers-cleaners', 'Protective-serv',\n",
       "       'Armed-Forces'], dtype=object)"
      ]
     },
     "execution_count": 15,
     "metadata": {},
     "output_type": "execute_result"
    }
   ],
   "source": [
    "df_balanced['occupation'].unique()"
   ]
  },
  {
   "cell_type": "markdown",
   "metadata": {},
   "source": [
    "- Craft-repair: \\$64k \n",
    "- Sales: \\$84k\n",
    "- Exec-managerial: \\$76k\n",
    "- Machine-op-inspct: \\$46k\n",
    "- Other-service: \\$60k\n",
    "- Transport-moving: \\$41k\n",
    "- Prof-speciality: \\$165k\n",
    "- Priv-house-serv: \\$39k\n",
    "- Tech-support: \\$56k\n",
    "- Adm-clerical: \\$40k\n",
    "- Farming-fishing: \\$38k\n",
    "- Handlers-cleaners: \\$42k\n",
    "- Protective-serv: \\$60k\n",
    "- Armed-Forces: \\$82k\n",
    "\n",
    "Salaries are rounded to the nearest thousands. We can then assign them an increasing order, like so:"
   ]
  },
  {
   "cell_type": "code",
   "execution_count": 16,
   "metadata": {},
   "outputs": [
    {
     "data": {
      "text/plain": [
       "14"
      ]
     },
     "execution_count": 16,
     "metadata": {},
     "output_type": "execute_result"
    }
   ],
   "source": [
    "occ_order = [\"Farming-fishing\", \"Priv-house-serv\", \"Adm-clerical\", \"Transport-moving\", \"Handlers-cleaners\", \"Machine-op-inspct\", \"Tech-support\", \"Protective-serv\", \"Other-service\", \"Craft-repair\", \"Exec-managerial\", \"Armed-Forces\", \"Sales\", \"Prof-specialty\"]\n",
    "len(occ_order)"
   ]
  },
  {
   "cell_type": "code",
   "execution_count": 20,
   "metadata": {},
   "outputs": [],
   "source": [
    "df_balanced['occupation'] = pd.Categorical(df_balanced['occupation'], ordered=True, categories=occ_order)"
   ]
  },
  {
   "cell_type": "code",
   "execution_count": 22,
   "metadata": {},
   "outputs": [
    {
     "data": {
      "text/plain": [
       "CategoricalDtype(categories=['Farming-fishing', 'Priv-house-serv', 'Adm-clerical',\n",
       "                  'Transport-moving', 'Handlers-cleaners', 'Machine-op-inspct',\n",
       "                  'Tech-support', 'Protective-serv', 'Other-service',\n",
       "                  'Craft-repair', 'Exec-managerial', 'Armed-Forces', 'Sales',\n",
       "                  'Prof-specialty'],\n",
       "                 ordered=True)"
      ]
     },
     "execution_count": 22,
     "metadata": {},
     "output_type": "execute_result"
    }
   ],
   "source": [
    "df_balanced['occupation'].dtype"
   ]
  },
  {
   "cell_type": "markdown",
   "metadata": {},
   "source": [
    "Now that we have ordered our occupations, we'll Winsorize our hours-per-week column, to prevent outliers:"
   ]
  },
  {
   "cell_type": "code",
   "execution_count": 30,
   "metadata": {},
   "outputs": [
    {
     "data": {
      "text/html": [
       "<div>\n",
       "<style scoped>\n",
       "    .dataframe tbody tr th:only-of-type {\n",
       "        vertical-align: middle;\n",
       "    }\n",
       "\n",
       "    .dataframe tbody tr th {\n",
       "        vertical-align: top;\n",
       "    }\n",
       "\n",
       "    .dataframe thead th {\n",
       "        text-align: right;\n",
       "    }\n",
       "</style>\n",
       "<table border=\"1\" class=\"dataframe\">\n",
       "  <thead>\n",
       "    <tr style=\"text-align: right;\">\n",
       "      <th></th>\n",
       "      <th>age</th>\n",
       "      <th>workclass</th>\n",
       "      <th>fnlwgt</th>\n",
       "      <th>education</th>\n",
       "      <th>education-num</th>\n",
       "      <th>marital-status</th>\n",
       "      <th>occupation</th>\n",
       "      <th>relationship</th>\n",
       "      <th>race</th>\n",
       "      <th>sex_selfID</th>\n",
       "      <th>capital-gain</th>\n",
       "      <th>capital-loss</th>\n",
       "      <th>hours-per-week</th>\n",
       "      <th>native-country</th>\n",
       "      <th>income_binary</th>\n",
       "    </tr>\n",
       "  </thead>\n",
       "  <tbody>\n",
       "    <tr>\n",
       "      <th>4476</th>\n",
       "      <td>21.0</td>\n",
       "      <td>not-self-emp</td>\n",
       "      <td>51985</td>\n",
       "      <td>HS-grad</td>\n",
       "      <td>9</td>\n",
       "      <td>Never-married</td>\n",
       "      <td>Craft-repair</td>\n",
       "      <td>no_family</td>\n",
       "      <td>White</td>\n",
       "      <td>Non-Female</td>\n",
       "      <td>0</td>\n",
       "      <td>0</td>\n",
       "      <td>40.0</td>\n",
       "      <td>United-States</td>\n",
       "      <td>&lt;=50K</td>\n",
       "    </tr>\n",
       "    <tr>\n",
       "      <th>22124</th>\n",
       "      <td>59.0</td>\n",
       "      <td>not-self-emp</td>\n",
       "      <td>135647</td>\n",
       "      <td>11th</td>\n",
       "      <td>7</td>\n",
       "      <td>Married-civ-spouse</td>\n",
       "      <td>Sales</td>\n",
       "      <td>family</td>\n",
       "      <td>White</td>\n",
       "      <td>Non-Female</td>\n",
       "      <td>0</td>\n",
       "      <td>0</td>\n",
       "      <td>60.0</td>\n",
       "      <td>United-States</td>\n",
       "      <td>&lt;=50K</td>\n",
       "    </tr>\n",
       "    <tr>\n",
       "      <th>27434</th>\n",
       "      <td>52.0</td>\n",
       "      <td>not-self-emp</td>\n",
       "      <td>155983</td>\n",
       "      <td>Bachelors</td>\n",
       "      <td>13</td>\n",
       "      <td>Married-civ-spouse</td>\n",
       "      <td>Exec-managerial</td>\n",
       "      <td>family</td>\n",
       "      <td>White</td>\n",
       "      <td>Non-Female</td>\n",
       "      <td>0</td>\n",
       "      <td>0</td>\n",
       "      <td>40.0</td>\n",
       "      <td>United-States</td>\n",
       "      <td>&gt;50K</td>\n",
       "    </tr>\n",
       "    <tr>\n",
       "      <th>15884</th>\n",
       "      <td>21.0</td>\n",
       "      <td>not-self-emp</td>\n",
       "      <td>131620</td>\n",
       "      <td>HS-grad</td>\n",
       "      <td>9</td>\n",
       "      <td>Married-spouse-absent</td>\n",
       "      <td>Machine-op-inspct</td>\n",
       "      <td>family</td>\n",
       "      <td>White</td>\n",
       "      <td>Female</td>\n",
       "      <td>0</td>\n",
       "      <td>0</td>\n",
       "      <td>40.0</td>\n",
       "      <td>Dominican-Republic</td>\n",
       "      <td>&lt;=50K</td>\n",
       "    </tr>\n",
       "    <tr>\n",
       "      <th>31916</th>\n",
       "      <td>18.0</td>\n",
       "      <td>not-self-emp</td>\n",
       "      <td>218889</td>\n",
       "      <td>9th</td>\n",
       "      <td>5</td>\n",
       "      <td>Never-married</td>\n",
       "      <td>Other-service</td>\n",
       "      <td>family</td>\n",
       "      <td>Black</td>\n",
       "      <td>Non-Female</td>\n",
       "      <td>0</td>\n",
       "      <td>0</td>\n",
       "      <td>35.0</td>\n",
       "      <td>United-States</td>\n",
       "      <td>&lt;=50K</td>\n",
       "    </tr>\n",
       "    <tr>\n",
       "      <th>1955</th>\n",
       "      <td>40.0</td>\n",
       "      <td>not-self-emp</td>\n",
       "      <td>201495</td>\n",
       "      <td>11th</td>\n",
       "      <td>7</td>\n",
       "      <td>Never-married</td>\n",
       "      <td>Transport-moving</td>\n",
       "      <td>family</td>\n",
       "      <td>White</td>\n",
       "      <td>Non-Female</td>\n",
       "      <td>0</td>\n",
       "      <td>0</td>\n",
       "      <td>35.0</td>\n",
       "      <td>United-States</td>\n",
       "      <td>&lt;=50K</td>\n",
       "    </tr>\n",
       "    <tr>\n",
       "      <th>26044</th>\n",
       "      <td>42.0</td>\n",
       "      <td>not-self-emp</td>\n",
       "      <td>177989</td>\n",
       "      <td>HS-grad</td>\n",
       "      <td>9</td>\n",
       "      <td>Married-civ-spouse</td>\n",
       "      <td>Transport-moving</td>\n",
       "      <td>family</td>\n",
       "      <td>White</td>\n",
       "      <td>Non-Female</td>\n",
       "      <td>0</td>\n",
       "      <td>0</td>\n",
       "      <td>40.0</td>\n",
       "      <td>United-States</td>\n",
       "      <td>&lt;=50K</td>\n",
       "    </tr>\n",
       "    <tr>\n",
       "      <th>21359</th>\n",
       "      <td>29.0</td>\n",
       "      <td>not-self-emp</td>\n",
       "      <td>49087</td>\n",
       "      <td>Bachelors</td>\n",
       "      <td>13</td>\n",
       "      <td>Never-married</td>\n",
       "      <td>Prof-specialty</td>\n",
       "      <td>no_family</td>\n",
       "      <td>White</td>\n",
       "      <td>Non-Female</td>\n",
       "      <td>0</td>\n",
       "      <td>0</td>\n",
       "      <td>50.0</td>\n",
       "      <td>United-States</td>\n",
       "      <td>&lt;=50K</td>\n",
       "    </tr>\n",
       "    <tr>\n",
       "      <th>23607</th>\n",
       "      <td>58.0</td>\n",
       "      <td>not-self-emp</td>\n",
       "      <td>119751</td>\n",
       "      <td>HS-grad</td>\n",
       "      <td>9</td>\n",
       "      <td>Married-civ-spouse</td>\n",
       "      <td>Priv-house-serv</td>\n",
       "      <td>family</td>\n",
       "      <td>Asian-Pac-Islander</td>\n",
       "      <td>Female</td>\n",
       "      <td>0</td>\n",
       "      <td>0</td>\n",
       "      <td>60.0</td>\n",
       "      <td>Philippines</td>\n",
       "      <td>&lt;=50K</td>\n",
       "    </tr>\n",
       "    <tr>\n",
       "      <th>8508</th>\n",
       "      <td>54.0</td>\n",
       "      <td>not-self-emp</td>\n",
       "      <td>161334</td>\n",
       "      <td>Masters</td>\n",
       "      <td>14</td>\n",
       "      <td>Married-spouse-absent</td>\n",
       "      <td>Prof-specialty</td>\n",
       "      <td>no_family</td>\n",
       "      <td>Asian-Pac-Islander</td>\n",
       "      <td>Female</td>\n",
       "      <td>0</td>\n",
       "      <td>0</td>\n",
       "      <td>40.0</td>\n",
       "      <td>China</td>\n",
       "      <td>&lt;=50K</td>\n",
       "    </tr>\n",
       "    <tr>\n",
       "      <th>403</th>\n",
       "      <td>34.0</td>\n",
       "      <td>not-self-emp</td>\n",
       "      <td>227689</td>\n",
       "      <td>Assoc-voc</td>\n",
       "      <td>11</td>\n",
       "      <td>Divorced</td>\n",
       "      <td>Tech-support</td>\n",
       "      <td>no_family</td>\n",
       "      <td>White</td>\n",
       "      <td>Female</td>\n",
       "      <td>0</td>\n",
       "      <td>0</td>\n",
       "      <td>64.0</td>\n",
       "      <td>United-States</td>\n",
       "      <td>&lt;=50K</td>\n",
       "    </tr>\n",
       "    <tr>\n",
       "      <th>3357</th>\n",
       "      <td>24.0</td>\n",
       "      <td>not-self-emp</td>\n",
       "      <td>182812</td>\n",
       "      <td>Some-college</td>\n",
       "      <td>10</td>\n",
       "      <td>Never-married</td>\n",
       "      <td>Adm-clerical</td>\n",
       "      <td>family</td>\n",
       "      <td>White</td>\n",
       "      <td>Female</td>\n",
       "      <td>3325</td>\n",
       "      <td>0</td>\n",
       "      <td>52.0</td>\n",
       "      <td>Dominican-Republic</td>\n",
       "      <td>&lt;=50K</td>\n",
       "    </tr>\n",
       "    <tr>\n",
       "      <th>7387</th>\n",
       "      <td>32.0</td>\n",
       "      <td>not-self-emp</td>\n",
       "      <td>198452</td>\n",
       "      <td>HS-grad</td>\n",
       "      <td>9</td>\n",
       "      <td>Married-civ-spouse</td>\n",
       "      <td>Farming-fishing</td>\n",
       "      <td>family</td>\n",
       "      <td>White</td>\n",
       "      <td>Female</td>\n",
       "      <td>0</td>\n",
       "      <td>0</td>\n",
       "      <td>40.0</td>\n",
       "      <td>United-States</td>\n",
       "      <td>&lt;=50K</td>\n",
       "    </tr>\n",
       "    <tr>\n",
       "      <th>8311</th>\n",
       "      <td>69.0</td>\n",
       "      <td>not-self-emp</td>\n",
       "      <td>106595</td>\n",
       "      <td>HS-grad</td>\n",
       "      <td>9</td>\n",
       "      <td>Widowed</td>\n",
       "      <td>Adm-clerical</td>\n",
       "      <td>no_family</td>\n",
       "      <td>White</td>\n",
       "      <td>Female</td>\n",
       "      <td>1848</td>\n",
       "      <td>0</td>\n",
       "      <td>40.0</td>\n",
       "      <td>United-States</td>\n",
       "      <td>&lt;=50K</td>\n",
       "    </tr>\n",
       "    <tr>\n",
       "      <th>21686</th>\n",
       "      <td>65.0</td>\n",
       "      <td>NaN</td>\n",
       "      <td>123484</td>\n",
       "      <td>HS-grad</td>\n",
       "      <td>9</td>\n",
       "      <td>Widowed</td>\n",
       "      <td>NaN</td>\n",
       "      <td>family</td>\n",
       "      <td>White</td>\n",
       "      <td>Female</td>\n",
       "      <td>0</td>\n",
       "      <td>0</td>\n",
       "      <td>25.0</td>\n",
       "      <td>United-States</td>\n",
       "      <td>&lt;=50K</td>\n",
       "    </tr>\n",
       "  </tbody>\n",
       "</table>\n",
       "</div>"
      ],
      "text/plain": [
       "        age     workclass  fnlwgt     education  education-num  \\\n",
       "4476   21.0  not-self-emp   51985       HS-grad              9   \n",
       "22124  59.0  not-self-emp  135647          11th              7   \n",
       "27434  52.0  not-self-emp  155983     Bachelors             13   \n",
       "15884  21.0  not-self-emp  131620       HS-grad              9   \n",
       "31916  18.0  not-self-emp  218889           9th              5   \n",
       "1955   40.0  not-self-emp  201495          11th              7   \n",
       "26044  42.0  not-self-emp  177989       HS-grad              9   \n",
       "21359  29.0  not-self-emp   49087     Bachelors             13   \n",
       "23607  58.0  not-self-emp  119751       HS-grad              9   \n",
       "8508   54.0  not-self-emp  161334       Masters             14   \n",
       "403    34.0  not-self-emp  227689     Assoc-voc             11   \n",
       "3357   24.0  not-self-emp  182812  Some-college             10   \n",
       "7387   32.0  not-self-emp  198452       HS-grad              9   \n",
       "8311   69.0  not-self-emp  106595       HS-grad              9   \n",
       "21686  65.0           NaN  123484       HS-grad              9   \n",
       "\n",
       "              marital-status         occupation relationship  \\\n",
       "4476           Never-married       Craft-repair    no_family   \n",
       "22124     Married-civ-spouse              Sales       family   \n",
       "27434     Married-civ-spouse    Exec-managerial       family   \n",
       "15884  Married-spouse-absent  Machine-op-inspct       family   \n",
       "31916          Never-married      Other-service       family   \n",
       "1955           Never-married   Transport-moving       family   \n",
       "26044     Married-civ-spouse   Transport-moving       family   \n",
       "21359          Never-married     Prof-specialty    no_family   \n",
       "23607     Married-civ-spouse    Priv-house-serv       family   \n",
       "8508   Married-spouse-absent     Prof-specialty    no_family   \n",
       "403                 Divorced       Tech-support    no_family   \n",
       "3357           Never-married       Adm-clerical       family   \n",
       "7387      Married-civ-spouse    Farming-fishing       family   \n",
       "8311                 Widowed       Adm-clerical    no_family   \n",
       "21686                Widowed                NaN       family   \n",
       "\n",
       "                     race  sex_selfID  capital-gain  capital-loss  \\\n",
       "4476                White  Non-Female             0             0   \n",
       "22124               White  Non-Female             0             0   \n",
       "27434               White  Non-Female             0             0   \n",
       "15884               White      Female             0             0   \n",
       "31916               Black  Non-Female             0             0   \n",
       "1955                White  Non-Female             0             0   \n",
       "26044               White  Non-Female             0             0   \n",
       "21359               White  Non-Female             0             0   \n",
       "23607  Asian-Pac-Islander      Female             0             0   \n",
       "8508   Asian-Pac-Islander      Female             0             0   \n",
       "403                 White      Female             0             0   \n",
       "3357                White      Female          3325             0   \n",
       "7387                White      Female             0             0   \n",
       "8311                White      Female          1848             0   \n",
       "21686               White      Female             0             0   \n",
       "\n",
       "       hours-per-week      native-country income_binary  \n",
       "4476             40.0       United-States         <=50K  \n",
       "22124            60.0       United-States         <=50K  \n",
       "27434            40.0       United-States          >50K  \n",
       "15884            40.0  Dominican-Republic         <=50K  \n",
       "31916            35.0       United-States         <=50K  \n",
       "1955             35.0       United-States         <=50K  \n",
       "26044            40.0       United-States         <=50K  \n",
       "21359            50.0       United-States         <=50K  \n",
       "23607            60.0         Philippines         <=50K  \n",
       "8508             40.0               China         <=50K  \n",
       "403              64.0       United-States         <=50K  \n",
       "3357             52.0  Dominican-Republic         <=50K  \n",
       "7387             40.0       United-States         <=50K  \n",
       "8311             40.0       United-States         <=50K  \n",
       "21686            25.0       United-States         <=50K  "
      ]
     },
     "execution_count": 30,
     "metadata": {},
     "output_type": "execute_result"
    }
   ],
   "source": [
    "df_balanced['hours-per-week'] = stats.mstats.winsorize(df_balanced['hours-per-week'], limits=[0.01, 0.01])\n",
    "df_balanced.head(15)"
   ]
  },
  {
   "cell_type": "markdown",
   "metadata": {},
   "source": [
    "We'll now address any missing data:"
   ]
  },
  {
   "cell_type": "code",
   "execution_count": 31,
   "metadata": {},
   "outputs": [
    {
     "data": {
      "text/plain": [
       "True"
      ]
     },
     "execution_count": 31,
     "metadata": {},
     "output_type": "execute_result"
    }
   ],
   "source": [
    "df_balanced.isnull().values.any()"
   ]
  },
  {
   "cell_type": "code",
   "execution_count": 32,
   "metadata": {},
   "outputs": [
    {
     "data": {
      "text/html": [
       "<div>\n",
       "<style scoped>\n",
       "    .dataframe tbody tr th:only-of-type {\n",
       "        vertical-align: middle;\n",
       "    }\n",
       "\n",
       "    .dataframe tbody tr th {\n",
       "        vertical-align: top;\n",
       "    }\n",
       "\n",
       "    .dataframe thead th {\n",
       "        text-align: right;\n",
       "    }\n",
       "</style>\n",
       "<table border=\"1\" class=\"dataframe\">\n",
       "  <thead>\n",
       "    <tr style=\"text-align: right;\">\n",
       "      <th></th>\n",
       "      <th>age</th>\n",
       "      <th>workclass</th>\n",
       "      <th>fnlwgt</th>\n",
       "      <th>education</th>\n",
       "      <th>education-num</th>\n",
       "      <th>marital-status</th>\n",
       "      <th>occupation</th>\n",
       "      <th>relationship</th>\n",
       "      <th>race</th>\n",
       "      <th>sex_selfID</th>\n",
       "      <th>capital-gain</th>\n",
       "      <th>capital-loss</th>\n",
       "      <th>hours-per-week</th>\n",
       "      <th>native-country</th>\n",
       "      <th>income_binary</th>\n",
       "    </tr>\n",
       "  </thead>\n",
       "  <tbody>\n",
       "    <tr>\n",
       "      <th>4476</th>\n",
       "      <td>False</td>\n",
       "      <td>False</td>\n",
       "      <td>False</td>\n",
       "      <td>False</td>\n",
       "      <td>False</td>\n",
       "      <td>False</td>\n",
       "      <td>False</td>\n",
       "      <td>False</td>\n",
       "      <td>False</td>\n",
       "      <td>False</td>\n",
       "      <td>False</td>\n",
       "      <td>False</td>\n",
       "      <td>False</td>\n",
       "      <td>False</td>\n",
       "      <td>False</td>\n",
       "    </tr>\n",
       "    <tr>\n",
       "      <th>22124</th>\n",
       "      <td>False</td>\n",
       "      <td>False</td>\n",
       "      <td>False</td>\n",
       "      <td>False</td>\n",
       "      <td>False</td>\n",
       "      <td>False</td>\n",
       "      <td>False</td>\n",
       "      <td>False</td>\n",
       "      <td>False</td>\n",
       "      <td>False</td>\n",
       "      <td>False</td>\n",
       "      <td>False</td>\n",
       "      <td>False</td>\n",
       "      <td>False</td>\n",
       "      <td>False</td>\n",
       "    </tr>\n",
       "    <tr>\n",
       "      <th>27434</th>\n",
       "      <td>False</td>\n",
       "      <td>False</td>\n",
       "      <td>False</td>\n",
       "      <td>False</td>\n",
       "      <td>False</td>\n",
       "      <td>False</td>\n",
       "      <td>False</td>\n",
       "      <td>False</td>\n",
       "      <td>False</td>\n",
       "      <td>False</td>\n",
       "      <td>False</td>\n",
       "      <td>False</td>\n",
       "      <td>False</td>\n",
       "      <td>False</td>\n",
       "      <td>False</td>\n",
       "    </tr>\n",
       "    <tr>\n",
       "      <th>15884</th>\n",
       "      <td>False</td>\n",
       "      <td>False</td>\n",
       "      <td>False</td>\n",
       "      <td>False</td>\n",
       "      <td>False</td>\n",
       "      <td>False</td>\n",
       "      <td>False</td>\n",
       "      <td>False</td>\n",
       "      <td>False</td>\n",
       "      <td>False</td>\n",
       "      <td>False</td>\n",
       "      <td>False</td>\n",
       "      <td>False</td>\n",
       "      <td>False</td>\n",
       "      <td>False</td>\n",
       "    </tr>\n",
       "    <tr>\n",
       "      <th>31916</th>\n",
       "      <td>False</td>\n",
       "      <td>False</td>\n",
       "      <td>False</td>\n",
       "      <td>False</td>\n",
       "      <td>False</td>\n",
       "      <td>False</td>\n",
       "      <td>False</td>\n",
       "      <td>False</td>\n",
       "      <td>False</td>\n",
       "      <td>False</td>\n",
       "      <td>False</td>\n",
       "      <td>False</td>\n",
       "      <td>False</td>\n",
       "      <td>False</td>\n",
       "      <td>False</td>\n",
       "    </tr>\n",
       "  </tbody>\n",
       "</table>\n",
       "</div>"
      ],
      "text/plain": [
       "         age  workclass  fnlwgt  education  education-num  marital-status  \\\n",
       "4476   False      False   False      False          False           False   \n",
       "22124  False      False   False      False          False           False   \n",
       "27434  False      False   False      False          False           False   \n",
       "15884  False      False   False      False          False           False   \n",
       "31916  False      False   False      False          False           False   \n",
       "\n",
       "       occupation  relationship   race  sex_selfID  capital-gain  \\\n",
       "4476        False         False  False       False         False   \n",
       "22124       False         False  False       False         False   \n",
       "27434       False         False  False       False         False   \n",
       "15884       False         False  False       False         False   \n",
       "31916       False         False  False       False         False   \n",
       "\n",
       "       capital-loss  hours-per-week  native-country  income_binary  \n",
       "4476          False           False           False          False  \n",
       "22124         False           False           False          False  \n",
       "27434         False           False           False          False  \n",
       "15884         False           False           False          False  \n",
       "31916         False           False           False          False  "
      ]
     },
     "execution_count": 32,
     "metadata": {},
     "output_type": "execute_result"
    }
   ],
   "source": [
    "df_balanced.isnull().head()"
   ]
  },
  {
   "cell_type": "code",
   "execution_count": 34,
   "metadata": {},
   "outputs": [
    {
     "name": "stdout",
     "output_type": "stream",
     "text": [
      "Index(['age', 'workclass', 'occupation', 'hours-per-week', 'native-country'], dtype='object')\n",
      "['age', 'workclass', 'occupation', 'hours-per-week', 'native-country']\n"
     ]
    }
   ],
   "source": [
    "condition = nan_count != 0 # look for all columns with missing values\n",
    "\n",
    "col_names = nan_count[condition].index # get the column names\n",
    "print(col_names)\n",
    "\n",
    "nan_cols = list(col_names) # convert column names to list\n",
    "print(nan_cols)"
   ]
  },
  {
   "cell_type": "code",
   "execution_count": 35,
   "metadata": {},
   "outputs": [
    {
     "data": {
      "text/plain": [
       "age               float64\n",
       "workclass          object\n",
       "occupation         object\n",
       "hours-per-week    float64\n",
       "native-country     object\n",
       "dtype: object"
      ]
     },
     "execution_count": 35,
     "metadata": {},
     "output_type": "execute_result"
    }
   ],
   "source": [
    "nan_col_types = df[nan_cols].dtypes\n",
    "nan_col_types"
   ]
  },
  {
   "cell_type": "markdown",
   "metadata": {},
   "source": [
    "We're interested in the workclass, occupation and hours-per-week examples. The workclass and occupation are both strings, and we can drop null strings, as it won't be helpful to our model:"
   ]
  },
  {
   "cell_type": "code",
   "execution_count": 36,
   "metadata": {},
   "outputs": [],
   "source": [
    "df_balanced = df_balanced[df_balanced['workclass'].notna()]"
   ]
  },
  {
   "cell_type": "code",
   "execution_count": 37,
   "metadata": {},
   "outputs": [],
   "source": [
    "df_balanced = df_balanced[df_balanced['occupation'].notna()]"
   ]
  },
  {
   "cell_type": "code",
   "execution_count": 38,
   "metadata": {},
   "outputs": [
    {
     "data": {
      "text/plain": [
       "relationship  workclass     income_binary\n",
       "family        not-self-emp  <=50K            3469\n",
       "                            >50K             2674\n",
       "              self-emp      <=50K             473\n",
       "                            >50K              367\n",
       "no_family     not-self-emp  <=50K            2824\n",
       "                            >50K              896\n",
       "              self-emp      <=50K             241\n",
       "                            >50K              158\n",
       "dtype: int64"
      ]
     },
     "execution_count": 38,
     "metadata": {},
     "output_type": "execute_result"
    }
   ],
   "source": [
    "df_balanced.groupby(['relationship', 'workclass', 'income_binary']).size()"
   ]
  },
  {
   "cell_type": "markdown",
   "metadata": {},
   "source": [
    "Our distributions are not impacted by these null string values. However, for the numrical hours-per-week, we'll replace null values with the mean:"
   ]
  },
  {
   "cell_type": "code",
   "execution_count": 88,
   "metadata": {},
   "outputs": [],
   "source": [
    "mean_week =df['hours-per-week'].mean()\n",
    "\n",
    "df_balanced['hours-per-week'].fillna(value=mean_week, inplace=True)"
   ]
  },
  {
   "cell_type": "code",
   "execution_count": 42,
   "metadata": {},
   "outputs": [
    {
     "data": {
      "text/plain": [
       "age                57\n",
       "workclass           0\n",
       "fnlwgt              0\n",
       "education           0\n",
       "education-num       0\n",
       "marital-status      0\n",
       "occupation          0\n",
       "relationship        0\n",
       "race                0\n",
       "sex_selfID          0\n",
       "capital-gain        0\n",
       "capital-loss        0\n",
       "hours-per-week      0\n",
       "native-country    206\n",
       "income_binary       0\n",
       "dtype: int64"
      ]
     },
     "execution_count": 42,
     "metadata": {},
     "output_type": "execute_result"
    }
   ],
   "source": [
    "nan_count = np.sum(df_balanced.isnull(), axis = 0)\n",
    "nan_count"
   ]
  },
  {
   "cell_type": "markdown",
   "metadata": {},
   "source": [
    "Note how there aren't any more null values in the columns of interest! Let's now assign the categorical columns numerical values. "
   ]
  },
  {
   "cell_type": "code",
   "execution_count": 43,
   "metadata": {},
   "outputs": [
    {
     "data": {
      "text/plain": [
       "4476      9\n",
       "22124    12\n",
       "27434    10\n",
       "15884     5\n",
       "31916     8\n",
       "         ..\n",
       "6590      2\n",
       "11211     9\n",
       "5713     13\n",
       "3220     10\n",
       "3665     12\n",
       "Length: 11102, dtype: int8"
      ]
     },
     "execution_count": 43,
     "metadata": {},
     "output_type": "execute_result"
    }
   ],
   "source": [
    "df_balanced['occupation'].cat.codes"
   ]
  },
  {
   "cell_type": "code",
   "execution_count": 44,
   "metadata": {},
   "outputs": [
    {
     "data": {
      "text/plain": [
       "array([ 9, 12, 10,  5,  8,  3, 13,  1,  6,  2,  0,  4,  7, 11], dtype=int8)"
      ]
     },
     "execution_count": 44,
     "metadata": {},
     "output_type": "execute_result"
    }
   ],
   "source": [
    "df_balanced['occupation'].cat.codes.unique()"
   ]
  },
  {
   "cell_type": "code",
   "execution_count": 45,
   "metadata": {},
   "outputs": [],
   "source": [
    "df_balanced['occupation'] = df_balanced['occupation'].cat.codes"
   ]
  },
  {
   "cell_type": "code",
   "execution_count": 46,
   "metadata": {},
   "outputs": [
    {
     "data": {
      "text/plain": [
       "4476      9\n",
       "22124    12\n",
       "27434    10\n",
       "15884     5\n",
       "31916     8\n",
       "Name: occupation, dtype: int8"
      ]
     },
     "execution_count": 46,
     "metadata": {},
     "output_type": "execute_result"
    }
   ],
   "source": [
    "df_balanced['occupation'].head()"
   ]
  },
  {
   "cell_type": "code",
   "execution_count": 48,
   "metadata": {},
   "outputs": [],
   "source": [
    "df_balanced[\"employed\"] = np.where(df_balanced['workclass'] == \"self-emp\", 1, 0)"
   ]
  },
  {
   "cell_type": "code",
   "execution_count": 52,
   "metadata": {},
   "outputs": [],
   "source": [
    "df_balanced[\"family\"] = np.where(df_balanced['relationship'] == \"family\", 1, 0)"
   ]
  },
  {
   "cell_type": "code",
   "execution_count": 141,
   "metadata": {},
   "outputs": [],
   "source": [
    "df_balanced[\"over_50k\"] = np.where(df_balanced['income_binary'] == \">50K\", 1, 0)"
   ]
  },
  {
   "cell_type": "code",
   "execution_count": 142,
   "metadata": {},
   "outputs": [
    {
     "data": {
      "text/html": [
       "<div>\n",
       "<style scoped>\n",
       "    .dataframe tbody tr th:only-of-type {\n",
       "        vertical-align: middle;\n",
       "    }\n",
       "\n",
       "    .dataframe tbody tr th {\n",
       "        vertical-align: top;\n",
       "    }\n",
       "\n",
       "    .dataframe thead th {\n",
       "        text-align: right;\n",
       "    }\n",
       "</style>\n",
       "<table border=\"1\" class=\"dataframe\">\n",
       "  <thead>\n",
       "    <tr style=\"text-align: right;\">\n",
       "      <th></th>\n",
       "      <th>age</th>\n",
       "      <th>workclass</th>\n",
       "      <th>fnlwgt</th>\n",
       "      <th>education</th>\n",
       "      <th>education-num</th>\n",
       "      <th>marital-status</th>\n",
       "      <th>occupation</th>\n",
       "      <th>relationship</th>\n",
       "      <th>race</th>\n",
       "      <th>sex_selfID</th>\n",
       "      <th>capital-gain</th>\n",
       "      <th>capital-loss</th>\n",
       "      <th>hours-per-week</th>\n",
       "      <th>native-country</th>\n",
       "      <th>income_binary</th>\n",
       "      <th>employed</th>\n",
       "      <th>family</th>\n",
       "      <th>over_50k</th>\n",
       "    </tr>\n",
       "  </thead>\n",
       "  <tbody>\n",
       "    <tr>\n",
       "      <th>4476</th>\n",
       "      <td>21.0</td>\n",
       "      <td>not-self-emp</td>\n",
       "      <td>51985</td>\n",
       "      <td>HS-grad</td>\n",
       "      <td>9</td>\n",
       "      <td>Never-married</td>\n",
       "      <td>9</td>\n",
       "      <td>no_family</td>\n",
       "      <td>White</td>\n",
       "      <td>Non-Female</td>\n",
       "      <td>0</td>\n",
       "      <td>0</td>\n",
       "      <td>40.0</td>\n",
       "      <td>United-States</td>\n",
       "      <td>&lt;=50K</td>\n",
       "      <td>0</td>\n",
       "      <td>0</td>\n",
       "      <td>0</td>\n",
       "    </tr>\n",
       "    <tr>\n",
       "      <th>22124</th>\n",
       "      <td>59.0</td>\n",
       "      <td>not-self-emp</td>\n",
       "      <td>135647</td>\n",
       "      <td>11th</td>\n",
       "      <td>7</td>\n",
       "      <td>Married-civ-spouse</td>\n",
       "      <td>12</td>\n",
       "      <td>family</td>\n",
       "      <td>White</td>\n",
       "      <td>Non-Female</td>\n",
       "      <td>0</td>\n",
       "      <td>0</td>\n",
       "      <td>60.0</td>\n",
       "      <td>United-States</td>\n",
       "      <td>&lt;=50K</td>\n",
       "      <td>0</td>\n",
       "      <td>1</td>\n",
       "      <td>0</td>\n",
       "    </tr>\n",
       "    <tr>\n",
       "      <th>27434</th>\n",
       "      <td>52.0</td>\n",
       "      <td>not-self-emp</td>\n",
       "      <td>155983</td>\n",
       "      <td>Bachelors</td>\n",
       "      <td>13</td>\n",
       "      <td>Married-civ-spouse</td>\n",
       "      <td>10</td>\n",
       "      <td>family</td>\n",
       "      <td>White</td>\n",
       "      <td>Non-Female</td>\n",
       "      <td>0</td>\n",
       "      <td>0</td>\n",
       "      <td>40.0</td>\n",
       "      <td>United-States</td>\n",
       "      <td>&gt;50K</td>\n",
       "      <td>0</td>\n",
       "      <td>1</td>\n",
       "      <td>1</td>\n",
       "    </tr>\n",
       "    <tr>\n",
       "      <th>15884</th>\n",
       "      <td>21.0</td>\n",
       "      <td>not-self-emp</td>\n",
       "      <td>131620</td>\n",
       "      <td>HS-grad</td>\n",
       "      <td>9</td>\n",
       "      <td>Married-spouse-absent</td>\n",
       "      <td>5</td>\n",
       "      <td>family</td>\n",
       "      <td>White</td>\n",
       "      <td>Female</td>\n",
       "      <td>0</td>\n",
       "      <td>0</td>\n",
       "      <td>40.0</td>\n",
       "      <td>Dominican-Republic</td>\n",
       "      <td>&lt;=50K</td>\n",
       "      <td>0</td>\n",
       "      <td>1</td>\n",
       "      <td>0</td>\n",
       "    </tr>\n",
       "    <tr>\n",
       "      <th>31916</th>\n",
       "      <td>18.0</td>\n",
       "      <td>not-self-emp</td>\n",
       "      <td>218889</td>\n",
       "      <td>9th</td>\n",
       "      <td>5</td>\n",
       "      <td>Never-married</td>\n",
       "      <td>8</td>\n",
       "      <td>family</td>\n",
       "      <td>Black</td>\n",
       "      <td>Non-Female</td>\n",
       "      <td>0</td>\n",
       "      <td>0</td>\n",
       "      <td>35.0</td>\n",
       "      <td>United-States</td>\n",
       "      <td>&lt;=50K</td>\n",
       "      <td>0</td>\n",
       "      <td>1</td>\n",
       "      <td>0</td>\n",
       "    </tr>\n",
       "  </tbody>\n",
       "</table>\n",
       "</div>"
      ],
      "text/plain": [
       "        age     workclass  fnlwgt  education  education-num  \\\n",
       "4476   21.0  not-self-emp   51985    HS-grad              9   \n",
       "22124  59.0  not-self-emp  135647       11th              7   \n",
       "27434  52.0  not-self-emp  155983  Bachelors             13   \n",
       "15884  21.0  not-self-emp  131620    HS-grad              9   \n",
       "31916  18.0  not-self-emp  218889        9th              5   \n",
       "\n",
       "              marital-status  occupation relationship   race  sex_selfID  \\\n",
       "4476           Never-married           9    no_family  White  Non-Female   \n",
       "22124     Married-civ-spouse          12       family  White  Non-Female   \n",
       "27434     Married-civ-spouse          10       family  White  Non-Female   \n",
       "15884  Married-spouse-absent           5       family  White      Female   \n",
       "31916          Never-married           8       family  Black  Non-Female   \n",
       "\n",
       "       capital-gain  capital-loss  hours-per-week      native-country  \\\n",
       "4476              0             0            40.0       United-States   \n",
       "22124             0             0            60.0       United-States   \n",
       "27434             0             0            40.0       United-States   \n",
       "15884             0             0            40.0  Dominican-Republic   \n",
       "31916             0             0            35.0       United-States   \n",
       "\n",
       "      income_binary  employed  family  over_50k  \n",
       "4476          <=50K         0       0         0  \n",
       "22124         <=50K         0       1         0  \n",
       "27434          >50K         0       1         1  \n",
       "15884         <=50K         0       1         0  \n",
       "31916         <=50K         0       1         0  "
      ]
     },
     "execution_count": 142,
     "metadata": {},
     "output_type": "execute_result"
    }
   ],
   "source": [
    "df_balanced.head()"
   ]
  },
  {
   "cell_type": "code",
   "execution_count": 145,
   "metadata": {},
   "outputs": [],
   "source": [
    "df = df_balanced[[\"occupation\", \"hours-per-week\", \"employed\", \"family\", \"over_50k\"]]"
   ]
  },
  {
   "cell_type": "code",
   "execution_count": 146,
   "metadata": {},
   "outputs": [
    {
     "data": {
      "text/html": [
       "<div>\n",
       "<style scoped>\n",
       "    .dataframe tbody tr th:only-of-type {\n",
       "        vertical-align: middle;\n",
       "    }\n",
       "\n",
       "    .dataframe tbody tr th {\n",
       "        vertical-align: top;\n",
       "    }\n",
       "\n",
       "    .dataframe thead th {\n",
       "        text-align: right;\n",
       "    }\n",
       "</style>\n",
       "<table border=\"1\" class=\"dataframe\">\n",
       "  <thead>\n",
       "    <tr style=\"text-align: right;\">\n",
       "      <th></th>\n",
       "      <th>occupation</th>\n",
       "      <th>hours-per-week</th>\n",
       "      <th>employed</th>\n",
       "      <th>family</th>\n",
       "      <th>over_50k</th>\n",
       "    </tr>\n",
       "  </thead>\n",
       "  <tbody>\n",
       "    <tr>\n",
       "      <th>4476</th>\n",
       "      <td>9</td>\n",
       "      <td>40.0</td>\n",
       "      <td>0</td>\n",
       "      <td>0</td>\n",
       "      <td>0</td>\n",
       "    </tr>\n",
       "    <tr>\n",
       "      <th>22124</th>\n",
       "      <td>12</td>\n",
       "      <td>60.0</td>\n",
       "      <td>0</td>\n",
       "      <td>1</td>\n",
       "      <td>0</td>\n",
       "    </tr>\n",
       "    <tr>\n",
       "      <th>27434</th>\n",
       "      <td>10</td>\n",
       "      <td>40.0</td>\n",
       "      <td>0</td>\n",
       "      <td>1</td>\n",
       "      <td>1</td>\n",
       "    </tr>\n",
       "    <tr>\n",
       "      <th>15884</th>\n",
       "      <td>5</td>\n",
       "      <td>40.0</td>\n",
       "      <td>0</td>\n",
       "      <td>1</td>\n",
       "      <td>0</td>\n",
       "    </tr>\n",
       "    <tr>\n",
       "      <th>31916</th>\n",
       "      <td>8</td>\n",
       "      <td>35.0</td>\n",
       "      <td>0</td>\n",
       "      <td>1</td>\n",
       "      <td>0</td>\n",
       "    </tr>\n",
       "  </tbody>\n",
       "</table>\n",
       "</div>"
      ],
      "text/plain": [
       "       occupation  hours-per-week  employed  family  over_50k\n",
       "4476            9            40.0         0       0         0\n",
       "22124          12            60.0         0       1         0\n",
       "27434          10            40.0         0       1         1\n",
       "15884           5            40.0         0       1         0\n",
       "31916           8            35.0         0       1         0"
      ]
     },
     "execution_count": 146,
     "metadata": {},
     "output_type": "execute_result"
    }
   ],
   "source": [
    "df.head()"
   ]
  },
  {
   "cell_type": "markdown",
   "metadata": {},
   "source": [
    "We can now use a KNN to create a model and training set:"
   ]
  },
  {
   "cell_type": "code",
   "execution_count": 147,
   "metadata": {},
   "outputs": [
    {
     "name": "stdout",
     "output_type": "stream",
     "text": [
      "11102\n",
      "4\n"
     ]
    }
   ],
   "source": [
    "X = df[['occupation', 'hours-per-week', 'employed', 'family']]\n",
    "y = df[['over_50k']]\n",
    "\n",
    "num_examples = X.shape[0]\n",
    "print(num_examples)\n",
    "num_features = X.shape[1]\n",
    "print(num_features)"
   ]
  },
  {
   "cell_type": "code",
   "execution_count": 148,
   "metadata": {},
   "outputs": [],
   "source": [
    "X_train, X_test, y_train, y_test = train_test_split(X, y, test_size=0.2, random_state=4)"
   ]
  },
  {
   "cell_type": "code",
   "execution_count": 149,
   "metadata": {},
   "outputs": [
    {
     "name": "stdout",
     "output_type": "stream",
     "text": [
      "[0 0 0 ... 0 0 0]\n"
     ]
    }
   ],
   "source": [
    "model = KNeighborsClassifier(n_neighbors=2)\n",
    "\n",
    "model.fit(X_train, y_train.values.ravel()) \n",
    "\n",
    "prediction= model.predict(X_test) \n",
    "\n",
    "print(prediction)"
   ]
  },
  {
   "cell_type": "code",
   "execution_count": 150,
   "metadata": {},
   "outputs": [
    {
     "name": "stdout",
     "output_type": "stream",
     "text": [
      "Accuracy score of model: 0.6920306168392616\n"
     ]
    }
   ],
   "source": [
    "score = accuracy_score(y_test, prediction)\n",
    "print('Accuracy score of model: ' + str(score))"
   ]
  },
  {
   "cell_type": "markdown",
   "metadata": {},
   "source": [
    "We were able to fit and train the model. However, it only achieves an accuracy of 69%. Let's try to optimize this KNN model, by creating a classification model and evaluating the model."
   ]
  },
  {
   "cell_type": "code",
   "execution_count": 151,
   "metadata": {},
   "outputs": [],
   "source": [
    "def train_test_knn(X_train, X_test, y_train, y_test, k):\n",
    "    model = KNeighborsClassifier(n_neighbors=k)\n",
    "    model.fit(X_train, y_train.values.ravel())\n",
    "    class_label_predictions= model.predict(X_test)\n",
    "    acc_score = accuracy_score(y_test, class_label_predictions)\n",
    "    \n",
    "    return acc_score"
   ]
  },
  {
   "cell_type": "code",
   "execution_count": 152,
   "metadata": {},
   "outputs": [
    {
     "name": "stdout",
     "output_type": "stream",
     "text": [
      "k=10, accuracy score: 0.7131922557406574\n",
      "k=100, accuracy score: 0.7262494371904548\n",
      "k=1000, accuracy score: 0.6938316073840612\n"
     ]
    }
   ],
   "source": [
    "k_values = [10, 100, 1000]\n",
    "\n",
    "acc1 = [] \n",
    "\n",
    "for k in k_values:\n",
    "    score = train_test_knn(X_train, X_test, y_train, y_test, k)\n",
    "    print('k=' + str(k) + ', accuracy score: ' + str(score))\n",
    "    acc1.append(float(score))"
   ]
  },
  {
   "cell_type": "markdown",
   "metadata": {},
   "source": [
    "We trained 3 classifiers on the train_test_knn() function we just implemented, but we can try again, using just a subset of our training data. "
   ]
  },
  {
   "cell_type": "code",
   "execution_count": 85,
   "metadata": {},
   "outputs": [
    {
     "name": "stdout",
     "output_type": "stream",
     "text": [
      "k=10, accuracy score: 0.7064385411976587\n",
      "k=100, accuracy score: 0.7131922557406574\n",
      "k=1000, accuracy score: 0.6294461954074742\n"
     ]
    }
   ],
   "source": [
    "k_values = [10, 100, 1000]\n",
    "\n",
    "acc2 = [] \n",
    "\n",
    "for k in k_values:\n",
    "    score = train_test_knn(X_train[:1500], X_test, y_train[:1500], y_test, k)\n",
    "    print('k=' + str(k) + ', accuracy score: ' + str(score))\n",
    "    acc2.append(float(score))"
   ]
  },
  {
   "cell_type": "code",
   "execution_count": 92,
   "metadata": {},
   "outputs": [
    {
     "data": {
      "image/png": "[encoded data removed]",
      "text/plain": [
       "<Figure size 432x288 with 1 Axes>"
      ]
     },
     "metadata": {
      "needs_background": "light"
     },
     "output_type": "display_data"
    }
   ],
   "source": [
    "fig = plt.figure()\n",
    "ax = fig.add_subplot(111)\n",
    "p1 = sns.lineplot(x=k_values, y=acc1, color='b', marker='o', label = 'Full training set')\n",
    "p2 = sns.lineplot(x=k_values, y=acc2, color='r', marker='o', label = 'First 1500 of the training examples')\n",
    "\n",
    "plt.title('Accuracy of the kNN predictions, for k$\\in{10,100,1000}$')\n",
    "plt.legend(bbox_to_anchor=(1.05, 1), loc=2, borderaxespad=0.)\n",
    "ax.set_xlabel('k')\n",
    "ax.set_ylabel('Accuracy on the test set')\n",
    "plt.show()"
   ]
  },
  {
   "cell_type": "markdown",
   "metadata": {},
   "source": [
    "Here, it looks like the accuracy is better when there's around a value of 100 for k, and using the full training set. Let's run the model through more classifiers. "
   ]
  },
  {
   "cell_type": "code",
   "execution_count": 74,
   "metadata": {},
   "outputs": [
    {
     "name": "stdout",
     "output_type": "stream",
     "text": [
      "Accuracy scores for full training data:\n",
      "k=1, accuracy score: 0.6582620441242684\n",
      "k=2, accuracy score: 0.6920306168392616\n",
      "k=3, accuracy score: 0.6807744259342638\n",
      "k=4, accuracy score: 0.6969833408374606\n",
      "k=5, accuracy score: 0.6987843313822603\n",
      "k=6, accuracy score: 0.704637550652859\n",
      "k=7, accuracy score: 0.7095902746510581\n",
      "k=8, accuracy score: 0.7140927510130571\n",
      "k=9, accuracy score: 0.7167942368302567\n",
      "k=10, accuracy score: 0.7131922557406574\n",
      "k=11, accuracy score: 0.7194957226474561\n",
      "k=12, accuracy score: 0.7163439891940567\n",
      "k=13, accuracy score: 0.7266996848266547\n",
      "k=14, accuracy score: 0.720396217919856\n",
      "k=15, accuracy score: 0.7244484466456551\n",
      "k=16, accuracy score: 0.7167942368302567\n",
      "k=17, accuracy score: 0.7239981990094552\n",
      "k=18, accuracy score: 0.7221972084646555\n",
      "k=19, accuracy score: 0.7221972084646555\n",
      "k=20, accuracy score: 0.7235479513732553\n",
      "k=21, accuracy score: 0.7176947321026564\n",
      "k=22, accuracy score: 0.7172444844664565\n",
      "k=23, accuracy score: 0.7208464655560558\n",
      "k=24, accuracy score: 0.720396217919856\n",
      "k=25, accuracy score: 0.7289509230076542\n",
      "k=26, accuracy score: 0.7271499324628545\n",
      "k=27, accuracy score: 0.7276001800990545\n",
      "k=28, accuracy score: 0.7271499324628545\n",
      "k=29, accuracy score: 0.7303016659162539\n",
      "k=30, accuracy score: 0.7253489419180549\n",
      "k=31, accuracy score: 0.7235479513732553\n",
      "k=32, accuracy score: 0.7244484466456551\n",
      "k=33, accuracy score: 0.7253489419180549\n",
      "k=34, accuracy score: 0.7208464655560558\n",
      "k=35, accuracy score: 0.7235479513732553\n",
      "k=36, accuracy score: 0.7172444844664565\n",
      "k=37, accuracy score: 0.7244484466456551\n",
      "k=38, accuracy score: 0.7176947321026564\n",
      "k=39, accuracy score: 0.7230977037370554\n",
      "k=40, accuracy score: 0.7221972084646555\n"
     ]
    }
   ],
   "source": [
    "acc1_40 = [] \n",
    "print(\"Accuracy scores for full training data:\")\n",
    "for k in range(1,41):\n",
    "    score = train_test_knn(X_train, X_test, y_train, y_test, k)\n",
    "    print('k=' + str(k) + ', accuracy score: ' + str(score))\n",
    "    acc1_40.append(float(score))"
   ]
  },
  {
   "cell_type": "markdown",
   "metadata": {},
   "source": [
    "Again, this time, with just the subset of training data."
   ]
  },
  {
   "cell_type": "code",
   "execution_count": 75,
   "metadata": {},
   "outputs": [
    {
     "name": "stdout",
     "output_type": "stream",
     "text": [
      "\n",
      "Accuracy scores for 50 examples in training data:\n",
      "k=1, accuracy score: 0.6393516434038722\n",
      "k=2, accuracy score: 0.6470058532192706\n",
      "k=3, accuracy score: 0.6569113012156687\n",
      "k=4, accuracy score: 0.6686177397568662\n",
      "k=5, accuracy score: 0.6929311121116614\n",
      "k=6, accuracy score: 0.6852769022962629\n",
      "k=7, accuracy score: 0.6744709590274651\n",
      "k=8, accuracy score: 0.69968482665466\n",
      "k=9, accuracy score: 0.6731202161188654\n",
      "k=10, accuracy score: 0.6740207113912652\n",
      "k=11, accuracy score: 0.6816749212066636\n",
      "k=12, accuracy score: 0.6740207113912652\n",
      "k=13, accuracy score: 0.6776226924808645\n",
      "k=14, accuracy score: 0.6641152633948672\n",
      "k=15, accuracy score: 0.6618640252138677\n",
      "k=16, accuracy score: 0.6389013957676722\n",
      "k=17, accuracy score: 0.655110310670869\n",
      "k=18, accuracy score: 0.655110310670869\n",
      "k=19, accuracy score: 0.6564610535794687\n",
      "k=20, accuracy score: 0.6528590724898694\n",
      "k=21, accuracy score: 0.6695182350292661\n",
      "k=22, accuracy score: 0.6515083295812697\n",
      "k=23, accuracy score: 0.6515083295812697\n",
      "k=24, accuracy score: 0.6411526339486717\n",
      "k=25, accuracy score: 0.6542098153984691\n",
      "k=26, accuracy score: 0.6371004052228726\n",
      "k=27, accuracy score: 0.6389013957676722\n",
      "k=28, accuracy score: 0.6294461954074742\n",
      "k=29, accuracy score: 0.6294461954074742\n",
      "k=30, accuracy score: 0.6294461954074742\n",
      "k=31, accuracy score: 0.6294461954074742\n",
      "k=32, accuracy score: 0.6294461954074742\n",
      "k=33, accuracy score: 0.6294461954074742\n",
      "k=34, accuracy score: 0.6294461954074742\n",
      "k=35, accuracy score: 0.6294461954074742\n",
      "k=36, accuracy score: 0.6294461954074742\n",
      "k=37, accuracy score: 0.6294461954074742\n",
      "k=38, accuracy score: 0.6294461954074742\n",
      "k=39, accuracy score: 0.6294461954074742\n",
      "k=40, accuracy score: 0.6294461954074742\n"
     ]
    }
   ],
   "source": [
    "acc2_40 = []\n",
    "print(\"\\nAccuracy scores for 50 examples in training data:\")\n",
    "for k in range(1,41):\n",
    "    score = train_test_knn(X_train[:50], X_test, y_train[:50], y_test, k)\n",
    "    print('k=' + str(k) + ', accuracy score: ' + str(score))\n",
    "    acc2_40.append(float(score))"
   ]
  },
  {
   "cell_type": "markdown",
   "metadata": {},
   "source": [
    "Let's compare the performances again:"
   ]
  },
  {
   "cell_type": "code",
   "execution_count": 76,
   "metadata": {},
   "outputs": [
    {
     "data": {
      "image/png": "[encoded data removed]",
      "text/plain": [
       "<Figure size 432x288 with 1 Axes>"
      ]
     },
     "metadata": {
      "needs_background": "light"
     },
     "output_type": "display_data"
    }
   ],
   "source": [
    "x = [i for i in range(1,41)]\n",
    "\n",
    "fig = plt.figure()\n",
    "ax = fig.add_subplot(111)\n",
    "p1 = plt.plot(x, acc1_40, 'b-', label = 'Full training set')\n",
    "p2 = plt.plot(x, acc2_40, 'r-', label = 'First 50 of the training examples') \n",
    "\n",
    "plt.title('Accuracy of the kNN predictions, for $k\\in(1, 40), k\\in\\mathbb{N}$')\n",
    "plt.legend(bbox_to_anchor=(1.05, 1), loc=2, borderaxespad=0.)\n",
    "ax.set_xlabel('k')\n",
    "ax.set_ylabel('Accuracy on the test set')\n",
    "plt.show()"
   ]
  },
  {
   "cell_type": "markdown",
   "metadata": {},
   "source": [
    "Again, it looks like the full training set yields a better accuracy. We can further try to improve our KNN through cross validation."
   ]
  },
  {
   "cell_type": "code",
   "execution_count": 153,
   "metadata": {},
   "outputs": [],
   "source": [
    "accuracy_scores = cross_val_score(model, X_train, y_train.values.ravel(), cv=5)"
   ]
  },
  {
   "cell_type": "markdown",
   "metadata": {},
   "source": [
    "We can then find the mean accuracy score and standard deviation of the KNN model."
   ]
  },
  {
   "cell_type": "code",
   "execution_count": 154,
   "metadata": {},
   "outputs": [
    {
     "name": "stdout",
     "output_type": "stream",
     "text": [
      "The mean accuracy score across the five iterations:\n",
      "0.6821316674017857\n",
      "The standard deviation of the accuracy score across the five iterations:\n",
      "0.012700423977806416\n"
     ]
    }
   ],
   "source": [
    "acc_mean = np.mean(accuracy_scores)\n",
    "print('The mean accuracy score across the five iterations:')\n",
    "print(acc_mean)\n",
    "\n",
    "acc_std = np.std(accuracy_scores)\n",
    "\n",
    "print('The standard deviation of the accuracy score across the five iterations:')\n",
    "print(acc_std)"
   ]
  },
  {
   "cell_type": "markdown",
   "metadata": {},
   "source": [
    "These values are fairly good. Now, we can try to further optimize, but finding the best value of k through model selection."
   ]
  },
  {
   "cell_type": "code",
   "execution_count": 155,
   "metadata": {},
   "outputs": [
    {
     "data": {
      "text/plain": [
       "{'n_neighbors': array([ 2, 12, 22, 32, 42, 53, 63, 73, 83, 94])}"
      ]
     },
     "execution_count": 155,
     "metadata": {},
     "output_type": "execute_result"
    }
   ],
   "source": [
    "num_examples = X_train.shape[0] \n",
    "param_grid = {'n_neighbors': np.linspace(2, np.sqrt(num_examples), 10, dtype=int)} \n",
    "\n",
    "param_grid"
   ]
  },
  {
   "cell_type": "code",
   "execution_count": 156,
   "metadata": {},
   "outputs": [
    {
     "name": "stdout",
     "output_type": "stream",
     "text": [
      "Running Grid Search...\n",
      "Done\n"
     ]
    }
   ],
   "source": [
    "print('Running Grid Search...')\n",
    "\n",
    "model = KNeighborsClassifier()\n",
    "\n",
    "grid = GridSearchCV(model, param_grid, cv=5)\n",
    "\n",
    "grid_search = grid.fit(X_train, y_train.values.ravel())\n",
    "\n",
    "print('Done')"
   ]
  },
  {
   "cell_type": "code",
   "execution_count": 157,
   "metadata": {},
   "outputs": [
    {
     "data": {
      "text/plain": [
       "42"
      ]
     },
     "execution_count": 157,
     "metadata": {},
     "output_type": "execute_result"
    }
   ],
   "source": [
    "best_k = grid_search.best_params_\n",
    "best_k = best_k['n_neighbors']\n",
    "best_k"
   ]
  },
  {
   "cell_type": "markdown",
   "metadata": {},
   "source": [
    "We find that the best value for k is 42, so we can now create an optimal model using this parameter."
   ]
  },
  {
   "cell_type": "code",
   "execution_count": 158,
   "metadata": {},
   "outputs": [
    {
     "data": {
      "text/plain": [
       "KNeighborsClassifier(algorithm='auto', leaf_size=30, metric='minkowski',\n",
       "                     metric_params=None, n_jobs=None, n_neighbors=42, p=2,\n",
       "                     weights='uniform')"
      ]
     },
     "execution_count": 158,
     "metadata": {},
     "output_type": "execute_result"
    }
   ],
   "source": [
    "model_best = KNeighborsClassifier(best_k)\n",
    "\n",
    "model_best.fit(X_train, y_train.values.ravel())"
   ]
  },
  {
   "cell_type": "code",
   "execution_count": 159,
   "metadata": {},
   "outputs": [],
   "source": [
    "probability_predictions = model_best.predict_proba(X_test)[:,1]\n",
    "\n",
    "class_label_predictions = model_best.predict(X_test)"
   ]
  },
  {
   "cell_type": "code",
   "execution_count": 160,
   "metadata": {},
   "outputs": [
    {
     "name": "stdout",
     "output_type": "stream",
     "text": [
      "Accuracy score: 0.7194957226474561\n"
     ]
    }
   ],
   "source": [
    "# Compute and print the model's accuracy score\n",
    "acc_score = accuracy_score(y_test, class_label_predictions)\n",
    "print('Accuracy score: ' + str(acc_score))"
   ]
  },
  {
   "cell_type": "markdown",
   "metadata": {},
   "source": [
    "Through cross-validation and model selection for KNN, we've determined the best value for k to be 42, which allows for a model accuracy of around 72%."
   ]
  },
  {
   "cell_type": "code",
   "execution_count": 161,
   "metadata": {},
   "outputs": [],
   "source": [
    "from sklearn.metrics import precision_recall_curve"
   ]
  },
  {
   "cell_type": "code",
   "execution_count": 162,
   "metadata": {},
   "outputs": [],
   "source": [
    "precision, recall, thresholds = precision_recall_curve(y_test.values.ravel(), probability_predictions)"
   ]
  },
  {
   "cell_type": "code",
   "execution_count": 163,
   "metadata": {},
   "outputs": [
    {
     "data": {
      "image/png": "[encoded data removed]",
      "text/plain": [
       "<Figure size 432x288 with 1 Axes>"
      ]
     },
     "metadata": {
      "needs_background": "light"
     },
     "output_type": "display_data"
    }
   ],
   "source": [
    "fig = plt.figure()\n",
    "ax = fig.add_subplot(111)\n",
    "\n",
    "sns.lineplot(x=recall, y=precision, marker = 'o')\n",
    "\n",
    "plt.title(\"Precision-recall curve\")\n",
    "plt.xlabel(\"Recall\")\n",
    "plt.ylabel(\"Precision\")\n",
    "plt.show()"
   ]
  },
  {
   "cell_type": "code",
   "execution_count": null,
   "metadata": {},
   "outputs": [],
   "source": []
  }
 ],
 "metadata": {
  "kernelspec": {
   "display_name": "Python 3",
   "language": "python",
   "name": "python3"
  },
  "language_info": {
   "codemirror_mode": {
    "name": "ipython",
    "version": 3
   },
   "file_extension": ".py",
   "mimetype": "text/x-python",
   "name": "python",
   "nbconvert_exporter": "python",
   "pygments_lexer": "ipython3",
   "version": "3.6.9"
  },
  "toc": {
   "base_numbering": 1,
   "nav_menu": {},
   "number_sections": false,
   "sideBar": true,
   "skip_h1_title": false,
   "title_cell": "Table of Contents",
   "title_sidebar": "Contents",
   "toc_cell": false,
   "toc_position": {},
   "toc_section_display": true,
   "toc_window_display": false
  },
  "varInspector": {
   "cols": {
    "lenName": 16,
    "lenType": 16,
    "lenVar": 40
   },
   "kernels_config": {
    "python": {
     "delete_cmd_postfix": "",
     "delete_cmd_prefix": "del ",
     "library": "var_list.py",
     "varRefreshCmd": "print(var_dic_list())"
    },
    "r": {
     "delete_cmd_postfix": ") ",
     "delete_cmd_prefix": "rm(",
     "library": "var_list.r",
     "varRefreshCmd": "cat(var_dic_list()) "
    }
   },
   "types_to_exclude": [
    "module",
    "function",
    "builtin_function_or_method",
    "instance",
    "_Feature"
   ],
   "window_display": false
  }
 },
 "nbformat": 4,
 "nbformat_minor": 2
}
